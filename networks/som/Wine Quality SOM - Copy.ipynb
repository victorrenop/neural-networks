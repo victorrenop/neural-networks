{
 "cells": [
  {
   "cell_type": "markdown",
   "metadata": {},
   "source": [
    "# Experiments With SOM Networks\n",
    "## Red Wine Quality Dataset\n",
    "\n",
    "Test different combinations of learning rates and sigma value (size of neighborhood).\n",
    "\n",
    "All tests are going to use the gaussian neighborhood with a random seed of 5 to initialize the weights.\n",
    "\n",
    "To show the results, the best resulting network will be choosen."
   ]
  },
  {
   "cell_type": "markdown",
   "metadata": {},
   "source": [
    "## Imports"
   ]
  },
  {
   "cell_type": "code",
   "execution_count": 6,
   "metadata": {},
   "outputs": [],
   "source": [
    "from minisom import MiniSom\n",
    "from sklearn import datasets\n",
    "import itertools\n",
    "import numpy as np\n",
    "import matplotlib.pyplot as plt\n",
    "import pandas as pd"
   ]
  },
  {
   "cell_type": "markdown",
   "metadata": {},
   "source": [
    "## Functions"
   ]
  },
  {
   "cell_type": "code",
   "execution_count": 38,
   "metadata": {},
   "outputs": [],
   "source": [
    "# Model building\n",
    "\n",
    "## Create the model reference using the choosen parameters\n",
    "def create_model(size, input_dim, sigma=1.0, learning_rate=1.0, nf=\"gaussian\", random_seed=5):\n",
    "    return MiniSom(size, size, input_dim, sigma=sigma, learning_rate=learning_rate, \n",
    "                   neighborhood_function=nf, random_seed=random_seed)\n",
    "\n",
    "## Create multiple models based of a list of parameters (dicts)\n",
    "## Returns a list of dicts containing the parameters and the model reference\n",
    "def create_bundle_of_models(model_parameters):\n",
    "    return [\n",
    "        {**{\"model\": create_model(**model_parameter)}, **model_parameter}\n",
    "        for model_parameter in model_parameters\n",
    "    ]\n",
    "\n",
    "## Creates all of the possible combinations of parameters between two lists\n",
    "def create_permutations(list_of_data_1, list_of_data_2):\n",
    "    return list(itertools.product(list_of_data_1, list_of_data_2))\n",
    "\n",
    "## Creates a list of dicts containing the parameters desired, using the permutation function\n",
    "def create_test_parameters(sigma_list, learning_rate_list):\n",
    "    return [\n",
    "        {\"sigma\": parameter[0], \"learning_rate\": parameter[1]}\n",
    "        for parameter in create_permutations(sigma_list, learning_rate_list)\n",
    "    ]\n",
    "\n",
    "# Data manipulation\n",
    "\n",
    "## Rescale the data between 0 and 1: Xr = X - X_min/(X_max - X_min)\n",
    "def normalize_data(data):\n",
    "    max_value = np.max(data)\n",
    "    min_value = np.min(data)\n",
    "    return (data - min_value) / (max_value - min_value)\n",
    "\n",
    "# Plots\n",
    "\n",
    "## Plot the u-matrix with the target classes on each winner neuron\n",
    "def plot_u_matrix(model):\n",
    "    plt.figure(figsize=(10, 10))\n",
    "    plt.pcolor(model['model'].distance_map().T, cmap='coolwarm')\n",
    "    plt.colorbar()    \n",
    "\n",
    "    markers = ['', '', '', '', 'o', 'v', 's', 'D', 'p', 'P']\n",
    "    colors = ['', '', '', '','C1', 'C2', 'C3', 'C4', 'C5', 'C6']\n",
    "    for idx, data in enumerate(input_data):\n",
    "        # Plot only 6 features\n",
    "        if target[idx] > 5:\n",
    "            winner = model['model'].winner(data)\n",
    "            plt.plot(winner[0]+.5, winner[1]+.5, markers[target[idx]], markerfacecolor='None',\n",
    "                     markeredgecolor=colors[target[idx]], markersize=12, markeredgewidth=2)\n",
    "    plt.axis([0, 30, 0, 30])\n",
    "    plt.show()\n",
    "    \n",
    "def plot_hit_map(model):\n",
    "    plt.figure(figsize=(10, 10))\n",
    "    plt.pcolor(model['model'].activation_response(input_data), cmap='Reds')\n",
    "    plt.colorbar() "
   ]
  },
  {
   "cell_type": "markdown",
   "metadata": {},
   "source": [
    "## The Dataset"
   ]
  },
  {
   "cell_type": "code",
   "execution_count": 18,
   "metadata": {},
   "outputs": [
    {
     "name": "stdout",
     "output_type": "stream",
     "text": [
      "Number of samples: 1599\n",
      "{'data': array([[ 7.4  ,  0.7  ,  0.   , ...,  3.51 ,  0.56 ,  9.4  ],\n",
      "       [ 7.8  ,  0.88 ,  0.   , ...,  3.2  ,  0.68 ,  9.8  ],\n",
      "       [ 7.8  ,  0.76 ,  0.04 , ...,  3.26 ,  0.65 ,  9.8  ],\n",
      "       ...,\n",
      "       [ 6.3  ,  0.51 ,  0.13 , ...,  3.42 ,  0.75 , 11.   ],\n",
      "       [ 5.9  ,  0.645,  0.12 , ...,  3.57 ,  0.71 , 10.2  ],\n",
      "       [ 6.   ,  0.31 ,  0.47 , ...,  3.39 ,  0.66 , 11.   ]]), 'target': array([5, 5, 5, ..., 6, 5, 6])}\n"
     ]
    }
   ],
   "source": [
    "### Input variables (based on physicochemical tests):\n",
    "#    1 - fixed acidity\n",
    "#    2 - volatile acidity\n",
    "#    3 - citric acid\n",
    "#    4 - residual sugar\n",
    "#    5 - chlorides\n",
    "#    6 - free sulfur dioxide\n",
    "#    7 - total sulfur dioxide\n",
    "#    8 - density\n",
    "#    9 - pH\n",
    "#    10 - sulphates\n",
    "#    11 - alcohol\n",
    "#    Output variable (based on sensory data): \n",
    "#    12 - quality (score between 0 and 10)\n",
    "###\n",
    "\n",
    "wine = pd.read_csv(\"winequality-red.csv\", sep=\";\")\n",
    "wine_target = wine[['quality']].copy()\n",
    "wine_features = wine.drop(['quality'], axis=1)\n",
    "wine_data = {\"data\": wine_features.to_numpy(), \"target\": np.array(wine_target[\"quality\"])}\n",
    "\n",
    "# Data already in desired format for the MiniSom library (numpy matrix)\n",
    "# Contains the features on the \"data\" key and the target classifications on \"target\" key\n",
    "print(\"Number of samples: %s\" % (len(wine_data[\"data\"])))\n",
    "print(wine_data)"
   ]
  },
  {
   "cell_type": "code",
   "execution_count": 19,
   "metadata": {},
   "outputs": [],
   "source": [
    "# Splitting the data\n",
    "\n",
    "# Normalized input\n",
    "input_data = normalize_data(wine_data[\"data\"])\n",
    "\n",
    "# Target classes\n",
    "target = wine_data[\"target\"]"
   ]
  },
  {
   "cell_type": "markdown",
   "metadata": {},
   "source": [
    "## Model parameters and building"
   ]
  },
  {
   "cell_type": "code",
   "execution_count": 20,
   "metadata": {},
   "outputs": [],
   "source": [
    "sigma_list = [0.01, 0.1, 1.0, 2.0, 5.0, 10.0]\n",
    "learning_rate_list = [0.01, 0.1, 0.5, 1.0, 2.0]\n",
    "\n",
    "# Fixed grid of 30x30\n",
    "size = 30\n",
    "\n",
    "# Fixed iteration number for all models\n",
    "iterations = 10000\n",
    "\n",
    "# Number of features, in this case, 4\n",
    "input_dim = input_data.shape[1]\n",
    "\n",
    "models = create_bundle_of_models(\n",
    "    [\n",
    "        {**parameters, **{\"size\": size, \"input_dim\": input_dim}}\n",
    "        for parameters in create_test_parameters(sigma_list, learning_rate_list)\n",
    "    ]\n",
    ")"
   ]
  },
  {
   "cell_type": "markdown",
   "metadata": {},
   "source": [
    "## Train the models and capture topographic and quantization errors (for ranking)"
   ]
  },
  {
   "cell_type": "code",
   "execution_count": 21,
   "metadata": {},
   "outputs": [],
   "source": [
    "for model in models:\n",
    "    # Training using random samples each iteration\n",
    "    model[\"model\"].train_batch(input_data, iterations)\n",
    "    model[\"topographic_error\"] = model[\"model\"].topographic_error(input_data)\n",
    "    model[\"quantization_error\"] = model[\"model\"].quantization_error(input_data)"
   ]
  },
  {
   "cell_type": "markdown",
   "metadata": {},
   "source": [
    "## Ranking the best models"
   ]
  },
  {
   "cell_type": "code",
   "execution_count": 22,
   "metadata": {
    "scrolled": true
   },
   "outputs": [
    {
     "data": {
      "text/plain": [
       "[{'model': <minisom.MiniSom at 0x7f1c7e895d68>,\n",
       "  'sigma': 1.0,\n",
       "  'learning_rate': 0.1,\n",
       "  'size': 30,\n",
       "  'input_dim': 11,\n",
       "  'topographic_error': 0.0300187617260788,\n",
       "  'quantization_error': 0.009532546238056362},\n",
       " {'model': <minisom.MiniSom at 0x7f1c7e895f28>,\n",
       "  'sigma': 5.0,\n",
       "  'learning_rate': 0.1,\n",
       "  'size': 30,\n",
       "  'input_dim': 11,\n",
       "  'topographic_error': 0.03377110694183865,\n",
       "  'quantization_error': 0.010466892307754848},\n",
       " {'model': <minisom.MiniSom at 0x7f1c7e8a20f0>,\n",
       "  'sigma': 10.0,\n",
       "  'learning_rate': 1.0,\n",
       "  'size': 30,\n",
       "  'input_dim': 11,\n",
       "  'topographic_error': 0.03689806128830519,\n",
       "  'quantization_error': 0.02361014655869066},\n",
       " {'model': <minisom.MiniSom at 0x7f1c7e8a2080>,\n",
       "  'sigma': 10.0,\n",
       "  'learning_rate': 0.1,\n",
       "  'size': 30,\n",
       "  'input_dim': 11,\n",
       "  'topographic_error': 0.0375234521575985,\n",
       "  'quantization_error': 0.017121050809451747},\n",
       " {'model': <minisom.MiniSom at 0x7f1c7e895c88>,\n",
       "  'sigma': 2.0,\n",
       "  'learning_rate': 0.1,\n",
       "  'size': 30,\n",
       "  'input_dim': 11,\n",
       "  'topographic_error': 0.03814884302689181,\n",
       "  'quantization_error': 0.008270121205195024},\n",
       " {'model': <minisom.MiniSom at 0x7f1c7e8a20b8>,\n",
       "  'sigma': 10.0,\n",
       "  'learning_rate': 0.5,\n",
       "  'size': 30,\n",
       "  'input_dim': 11,\n",
       "  'topographic_error': 0.04002501563477173,\n",
       "  'quantization_error': 0.02050831292418941},\n",
       " {'model': <minisom.MiniSom at 0x7f1c7e895f60>,\n",
       "  'sigma': 5.0,\n",
       "  'learning_rate': 0.5,\n",
       "  'size': 30,\n",
       "  'input_dim': 11,\n",
       "  'topographic_error': 0.0450281425891182,\n",
       "  'quantization_error': 0.01166420339005122},\n",
       " {'model': <minisom.MiniSom at 0x7f1c7e895d30>,\n",
       "  'sigma': 1.0,\n",
       "  'learning_rate': 0.01,\n",
       "  'size': 30,\n",
       "  'input_dim': 11,\n",
       "  'topographic_error': 0.04690431519699812,\n",
       "  'quantization_error': 0.01753813798652165},\n",
       " {'model': <minisom.MiniSom at 0x7f1c7e895f98>,\n",
       "  'sigma': 5.0,\n",
       "  'learning_rate': 1.0,\n",
       "  'size': 30,\n",
       "  'input_dim': 11,\n",
       "  'topographic_error': 0.04940587867417136,\n",
       "  'quantization_error': 0.01281004720020593},\n",
       " {'model': <minisom.MiniSom at 0x7f1c7e895da0>,\n",
       "  'sigma': 2.0,\n",
       "  'learning_rate': 0.5,\n",
       "  'size': 30,\n",
       "  'input_dim': 11,\n",
       "  'topographic_error': 0.05065666041275797,\n",
       "  'quantization_error': 0.007242084382959365},\n",
       " {'model': <minisom.MiniSom at 0x7f1c7e895e10>,\n",
       "  'sigma': 1.0,\n",
       "  'learning_rate': 0.5,\n",
       "  'size': 30,\n",
       "  'input_dim': 11,\n",
       "  'topographic_error': 0.07379612257661038,\n",
       "  'quantization_error': 0.006628334872049597},\n",
       " {'model': <minisom.MiniSom at 0x7f1c7e8a2048>,\n",
       "  'sigma': 10.0,\n",
       "  'learning_rate': 0.01,\n",
       "  'size': 30,\n",
       "  'input_dim': 11,\n",
       "  'topographic_error': 0.07629768605378362,\n",
       "  'quantization_error': 0.017586135062624658},\n",
       " {'model': <minisom.MiniSom at 0x7f1c7e895e80>,\n",
       "  'sigma': 2.0,\n",
       "  'learning_rate': 0.01,\n",
       "  'size': 30,\n",
       "  'input_dim': 11,\n",
       "  'topographic_error': 0.07754846779237023,\n",
       "  'quantization_error': 0.014564345012425846},\n",
       " {'model': <minisom.MiniSom at 0x7f1c7e895fd0>,\n",
       "  'sigma': 5.0,\n",
       "  'learning_rate': 2.0,\n",
       "  'size': 30,\n",
       "  'input_dim': 11,\n",
       "  'topographic_error': 0.07879924953095685,\n",
       "  'quantization_error': 0.014374541228261147},\n",
       " {'model': <minisom.MiniSom at 0x7f1c7e8953c8>,\n",
       "  'sigma': 5.0,\n",
       "  'learning_rate': 0.01,\n",
       "  'size': 30,\n",
       "  'input_dim': 11,\n",
       "  'topographic_error': 0.08005003126954346,\n",
       "  'quantization_error': 0.013338162084626827},\n",
       " {'model': <minisom.MiniSom at 0x7f1c7e8a2128>,\n",
       "  'sigma': 10.0,\n",
       "  'learning_rate': 2.0,\n",
       "  'size': 30,\n",
       "  'input_dim': 11,\n",
       "  'topographic_error': 0.08130081300813008,\n",
       "  'quantization_error': 0.02887355619395016},\n",
       " {'model': <minisom.MiniSom at 0x7f1c7e8959e8>,\n",
       "  'sigma': 2.0,\n",
       "  'learning_rate': 1.0,\n",
       "  'size': 30,\n",
       "  'input_dim': 11,\n",
       "  'topographic_error': 0.08755472170106317,\n",
       "  'quantization_error': 0.007441882776038999},\n",
       " {'model': <minisom.MiniSom at 0x7f1c7e895ef0>,\n",
       "  'sigma': 2.0,\n",
       "  'learning_rate': 2.0,\n",
       "  'size': 30,\n",
       "  'input_dim': 11,\n",
       "  'topographic_error': 0.11194496560350219,\n",
       "  'quantization_error': 0.007740682450585954},\n",
       " {'model': <minisom.MiniSom at 0x7f1c7e895dd8>,\n",
       "  'sigma': 1.0,\n",
       "  'learning_rate': 1.0,\n",
       "  'size': 30,\n",
       "  'input_dim': 11,\n",
       "  'topographic_error': 0.11757348342714197,\n",
       "  'quantization_error': 0.005906254454813469},\n",
       " {'model': <minisom.MiniSom at 0x7f1c7e895e48>,\n",
       "  'sigma': 1.0,\n",
       "  'learning_rate': 2.0,\n",
       "  'size': 30,\n",
       "  'input_dim': 11,\n",
       "  'topographic_error': 0.16635397123202,\n",
       "  'quantization_error': 0.0049844634577201185},\n",
       " {'model': <minisom.MiniSom at 0x7f1c7e8952b0>,\n",
       "  'sigma': 0.01,\n",
       "  'learning_rate': 0.5,\n",
       "  'size': 30,\n",
       "  'input_dim': 11,\n",
       "  'topographic_error': 1.0,\n",
       "  'quantization_error': 0.06562351666041896},\n",
       " {'model': <minisom.MiniSom at 0x7f1c7e895c50>,\n",
       "  'sigma': 0.1,\n",
       "  'learning_rate': 0.5,\n",
       "  'size': 30,\n",
       "  'input_dim': 11,\n",
       "  'topographic_error': 1.0,\n",
       "  'quantization_error': 0.06562351666041896},\n",
       " {'model': <minisom.MiniSom at 0x7f1c7e8955c0>,\n",
       "  'sigma': 0.01,\n",
       "  'learning_rate': 1.0,\n",
       "  'size': 30,\n",
       "  'input_dim': 11,\n",
       "  'topographic_error': 1.0,\n",
       "  'quantization_error': 0.06766111131394684},\n",
       " {'model': <minisom.MiniSom at 0x7f1c7e895cf8>,\n",
       "  'sigma': 0.1,\n",
       "  'learning_rate': 1.0,\n",
       "  'size': 30,\n",
       "  'input_dim': 11,\n",
       "  'topographic_error': 1.0,\n",
       "  'quantization_error': 0.06766111131394684},\n",
       " {'model': <minisom.MiniSom at 0x7f1c7e8ff940>,\n",
       "  'sigma': 0.01,\n",
       "  'learning_rate': 2.0,\n",
       "  'size': 30,\n",
       "  'input_dim': 11,\n",
       "  'topographic_error': 1.0,\n",
       "  'quantization_error': 0.07758214428676313},\n",
       " {'model': <minisom.MiniSom at 0x7f1c7e895cc0>,\n",
       "  'sigma': 0.1,\n",
       "  'learning_rate': 2.0,\n",
       "  'size': 30,\n",
       "  'input_dim': 11,\n",
       "  'topographic_error': 1.0,\n",
       "  'quantization_error': 0.07758214428676313},\n",
       " {'model': <minisom.MiniSom at 0x7f1c7e895470>,\n",
       "  'sigma': 0.01,\n",
       "  'learning_rate': 0.1,\n",
       "  'size': 30,\n",
       "  'input_dim': 11,\n",
       "  'topographic_error': 1.0,\n",
       "  'quantization_error': 0.09710641119539888},\n",
       " {'model': <minisom.MiniSom at 0x7f1c7e895c18>,\n",
       "  'sigma': 0.1,\n",
       "  'learning_rate': 0.1,\n",
       "  'size': 30,\n",
       "  'input_dim': 11,\n",
       "  'topographic_error': 1.0,\n",
       "  'quantization_error': 0.09710641119539888},\n",
       " {'model': <minisom.MiniSom at 0x7f1c7e895208>,\n",
       "  'sigma': 0.01,\n",
       "  'learning_rate': 0.01,\n",
       "  'size': 30,\n",
       "  'input_dim': 11,\n",
       "  'topographic_error': 1.0,\n",
       "  'quantization_error': 0.0991500746640579},\n",
       " {'model': <minisom.MiniSom at 0x7f1c7e895ba8>,\n",
       "  'sigma': 0.1,\n",
       "  'learning_rate': 0.01,\n",
       "  'size': 30,\n",
       "  'input_dim': 11,\n",
       "  'topographic_error': 1.0,\n",
       "  'quantization_error': 0.0991500746640579}]"
      ]
     },
     "execution_count": 22,
     "metadata": {},
     "output_type": "execute_result"
    }
   ],
   "source": [
    "ranked_models = sorted(models, key = lambda x: (x[\"topographic_error\"], x[\"quantization_error\"]))\n",
    "best_model = ranked_models[0]\n",
    "ranked_models"
   ]
  },
  {
   "cell_type": "markdown",
   "metadata": {},
   "source": [
    "## Data visualization"
   ]
  },
  {
   "cell_type": "markdown",
   "metadata": {},
   "source": [
    "### U-Matrix"
   ]
  },
  {
   "cell_type": "code",
   "execution_count": 39,
   "metadata": {},
   "outputs": [
    {
     "data": {
      "image/png": "[encoded data removed]",
      "text/plain": [
       "<Figure size 720x720 with 2 Axes>"
      ]
     },
     "metadata": {
      "needs_background": "light"
     },
     "output_type": "display_data"
    }
   ],
   "source": [
    "# Rank 1 model\n",
    "\n",
    "plot_u_matrix(best_model)"
   ]
  },
  {
   "cell_type": "markdown",
   "metadata": {},
   "source": [
    "### Heat Maps"
   ]
  },
  {
   "cell_type": "code",
   "execution_count": 40,
   "metadata": {},
   "outputs": [
    {
     "data": {
      "image/png": "[encoded data removed]",
      "text/plain": [
       "<Figure size 720x720 with 8 Axes>"
      ]
     },
     "metadata": {
      "needs_background": "light"
     },
     "output_type": "display_data"
    }
   ],
   "source": [
    "# Rank 1 model\n",
    "\n",
    "def get_weights(weights, feature_idx):\n",
    "    feature_weights = []\n",
    "    for neuron in weights:\n",
    "        data = []\n",
    "        for weight in neuron:\n",
    "            data.append(weight[feature_idx])\n",
    "        feature_weights.append(list(data))\n",
    "\n",
    "    return np.array(feature_weights)\n",
    "\n",
    "def plot_heat_maps(data_1, data_2, data_3, data_4, min_weight, max_weight):\n",
    "    fig, axs = plt.subplots(2, 2, figsize=(10,10))\n",
    "\n",
    "    cm = axs[0, 0].pcolor(data_1, cmap='coolwarm', vmin=min_weight, vmax=max_weight)\n",
    "    axs[0, 0].set_title('Radius')\n",
    "    fig.colorbar(cm, ax=axs[0,0])\n",
    "\n",
    "    cm = axs[0, 1].pcolor(data_2, cmap='coolwarm', vmin=min_weight, vmax=max_weight)\n",
    "    axs[0, 1].set_title('Texture')\n",
    "    fig.colorbar(cm, ax=axs[0,1])\n",
    "\n",
    "    cm = axs[1, 0].pcolor(data_3, cmap='coolwarm', vmin=min_weight, vmax=max_weight)\n",
    "    axs[1, 0].set_title('Perimeter')\n",
    "    fig.colorbar(cm, ax=axs[1,0])\n",
    "\n",
    "    cm = axs[1, 1].pcolor(data_4, cmap='coolwarm', vmin=min_weight, vmax=max_weight)\n",
    "    axs[1, 1].set_title('Area')\n",
    "    fig.colorbar(cm, ax=axs[1,1])\n",
    "\n",
    "    for ax in axs.flat:\n",
    "        ax.label_outer()\n",
    "    \n",
    "weights = best_model['model'].get_weights()\n",
    "\n",
    "fixed_acidity = get_weights(weights, 0)\n",
    "volatile_acidity = get_weights(weights, 1)\n",
    "citric_acid = get_weights(weights, 2)\n",
    "residual_sugar = get_weights(weights, 3)\n",
    "\n",
    "min_weight = np.min(weights)\n",
    "max_weight = np.max(weights)\n",
    "\n",
    "plot_heat_maps(fixed_acidity, volatile_acidity, citric_acid, residual_sugar, min_weight, max_weight)"
   ]
  },
  {
   "cell_type": "markdown",
   "metadata": {},
   "source": [
    "### Hit Maps"
   ]
  },
  {
   "cell_type": "code",
   "execution_count": 41,
   "metadata": {},
   "outputs": [
    {
     "data": {
      "image/png": "[encoded data removed]",
      "text/plain": [
       "<Figure size 720x720 with 2 Axes>"
      ]
     },
     "metadata": {
      "needs_background": "light"
     },
     "output_type": "display_data"
    }
   ],
   "source": [
    "#Rank 1 model\n",
    "plot_hit_map(best_model)"
   ]
  }
 ],
 "metadata": {
  "kernelspec": {
   "display_name": "Python 3",
   "language": "python",
   "name": "python3"
  },
  "language_info": {
   "codemirror_mode": {
    "name": "ipython",
    "version": 3
   },
   "file_extension": ".py",
   "mimetype": "text/x-python",
   "name": "python",
   "nbconvert_exporter": "python",
   "pygments_lexer": "ipython3",
   "version": "3.7.3"
  }
 },
 "nbformat": 4,
 "nbformat_minor": 4
}
